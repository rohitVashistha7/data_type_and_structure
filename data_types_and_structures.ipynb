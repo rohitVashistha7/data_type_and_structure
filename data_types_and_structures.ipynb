{
  "nbformat": 4,
  "nbformat_minor": 0,
  "metadata": {
    "colab": {
      "provenance": []
    },
    "kernelspec": {
      "name": "python3",
      "display_name": "Python 3"
    },
    "language_info": {
      "name": "python"
    }
  },
  "cells": [
    {
      "cell_type": "markdown",
      "source": [
        "# Data Types and Structures Questions\n",
        "\n",
        "# Q1 What are data structures, and why are they important\n",
        "  -> Data structures are systematic ways of organizing, storing, and accessing data in computer memory. They are fundamental components of programming that enable efficient data manipulation and retrieval.\n",
        "    \n",
        "  Here are key points highlighting their importance:\n",
        "      \n",
        "1. Efficiency: Choosing the right data structure can significantly enhance the performance of algorithms by reducing time complexity for operations like searching, inserting, and deleting elements.\n",
        "\n",
        "2. Memory Optimization: Effective data structures help in optimizing memory usage, ensuring that applications consume the least amount of memory while still providing necessary functionalities.\n",
        "\n",
        "3. Organization and Maintenance: Well-defined data structures improve code readability and maintainability, making it easier to understand and modify code as needed.\n",
        "\n",
        "4. Scalability: Properly designed data structures can handle large datasets, allowing applications to scale without compromising performance.\n",
        "\n",
        "\n",
        "# Q2. Explain the difference between mutable and immutable data types with examplesE\n",
        "-> In Python, data types can be classified as mutable or immutable:\n",
        "##Mutable Data Types:\n",
        "These can be changed after their creation. Examples include:\n",
        "\n",
        "  a). Lists: You can add, remove, or change elements.\n",
        "\n",
        "  b). Dictionaries: You can modify key-value pairs.\n",
        "\n",
        "  c). Sets: Elements can be added or removed.\n",
        "\n",
        "    lst = [1, 2, 3]\n",
        "    lst[0] = 0  # Modifies the list\n",
        "\n",
        "##Immutable Data Types:\n",
        " These cannot be changed once created. Examples include:\n",
        "\n",
        "  a). Tuples: Once a tuple is defined, its contents cannot be altered.\n",
        "  b). Strings: Any modification results in a new string being created.\n",
        "\n",
        "    tpl = (1, 2, 3)\n",
        "    tpl[0] = 0  # Raises an error\n",
        "\n",
        "\n",
        "# Q3. What are the main differences between lists and tuples in Python\n",
        "\n",
        "   ## -> Lists:\n",
        "1. Lists are mutable\n",
        "2. Defined with brackets '[]'\n",
        "3. Slower due to mutability\n",
        "4. Use when you need a dynamic collection\n",
        "\n",
        "Example:\n",
        "\n",
        "          lst = [1, 2, 3]\n",
        "\n",
        "##Tuples:\n",
        "1. Tuples are immutable\n",
        "2. Defined with parentheses '()'\n",
        "3. Faster due to immutability\n",
        "4. Use when data should not change\n",
        "\n",
        "Example:\n",
        "        \n",
        "        tpl = (1, 2, 3)\n",
        "\n",
        "\n",
        "#Q4. Describe how dictionaries store data\n",
        " -> Dictionaries in Python store data as key-value pairs. Each key is unique and maps to a specific value. This allows for fast lookups since dictionaries use hash tables for internal storage. When you want to retrieve a value, you simply reference its associated key.\n",
        "\n",
        "      thisdict = { \"brand\": \"Ford\", \"model\": \"Mustang\", \"year\": 1964 }\n",
        "      thisdict[\"year\"] # to retrieve a value\n",
        "\n",
        "\n",
        "\n",
        "#Q5. Why might you use a set instead of a list in Python\n",
        "  -> Sets are unordered collections that do not allow duplicate elements. They are beneficial when:\n",
        "  \n",
        "  a). You need to ensure that all elements are unique.\n",
        "\n",
        "  b). You require faster membership testing (checking if an element exists).\n",
        "\n",
        "  c). You want to perform mathematical set operations like union, intersection, or difference.\n",
        "\n",
        "\n",
        "In contrast, lists allow duplicates and maintain order but are less efficient for these operations  \n",
        "\n",
        "\n",
        "\n",
        "# Q6. What is a string in Python, and how is it different from a list?\n",
        "  -> A string in Python is a sequence of characters enclosed in quotes (single or double). Strings are immutable; any operation that modifies a string will create a new string rather than changing the original one. In contrast:\n",
        "\n",
        "Lists: Can contain multiple data types (including strings) and allow modifications.\n",
        "\n",
        "Strings: Are specifically for character sequences and cannot be altered once defined.\n",
        "\n",
        "Example of String:\n",
        "        \n",
        "        a = \"Hello\"\n",
        "        print(a)\n",
        "        print(a[0])  # output: H\n",
        "\n",
        "\n",
        "#Q7.How do tuples ensure data integrity in Python?\n",
        "  -> Tuples ensure data integrity by being immutable. Once created, their contents cannot be changed, which prevents accidental modifications. This characteristic makes tuples suitable for storing fixed collections of items where consistency is essential, such as coordinates or database records.\n",
        "\n",
        "\n",
        "\n",
        "#Q8. What is a hash table, and how does it relate to dictionaries in Python?\n",
        "  \n",
        "  -> A hash table is a data structure that implements an associative array abstract data type, which stores key-value pairs. In Python, dictionaries utilize hash tables internally to provide efficient access to values based on their keys. This allows for average-case constant time complexity O(1) for lookups, insertions, and deletions.\n",
        "\n",
        "#Q9. Can lists contain different data types in Python?\n",
        "  \n",
        "  -> Yes, lists in Python can contain different data types within the same list. For example, a list can include integers, strings, floats, or even other lists or dictionaries. This flexibility makes lists versatile for various programming tasks.\n",
        "        \n",
        "          lst = [1, \"hello\", 3.14, True]\n",
        "  \n",
        "#Q10. Explain why strings are immutable in PythonE\n",
        "  -> Strings are immutable in Python primarily for efficiency and security reasons:\n",
        "\n",
        "  Efficiency: Immutability allows strings to be stored more efficiently in memory since they do not require additional space for modifications.\n",
        "    \n",
        "  Security: It prevents accidental changes to string values that could lead to bugs or unexpected behavior in programs.\n",
        "\n",
        "When you modify a string, Python creates a new string instead of altering the original one\n",
        "\n",
        "\n",
        "#Q11. What advantages do dictionaries offer over lists for certain tasks?\n",
        "  -> Dictionaries offer several advantages over lists:\n",
        "Fast Lookups: Accessing values via keys is significantly faster than searching through lists.\n",
        "  \n",
        "  a). Key-Value Pairing: They allow for more complex data associations than lists.\n",
        "  \n",
        "  b). No Duplicates: Keys must be unique, preventing accidental duplicate entries.\n",
        "\n",
        "These features make dictionaries particularly useful for tasks involving large datasets where quick access is essential.\n",
        "\n",
        "# Q12.  Describe a scenario where using a tuple would be preferable over a list.\n",
        "\n",
        "  -> Using a tuple would be preferable when you need to store fixed collections of related items that should not change throughout the program's execution. For example:\n",
        "  \n",
        "              coordinates = (10.0, 20.0)\n",
        "\n",
        "In this case, using a tuple ensures that the coordinate values remain constant and cannot be inadvertently modified during processing.\n",
        "\n",
        "\n",
        "#Q13. How do sets handle duplicate values in Python?\n",
        "  -> Sets automatically remove duplicate values upon creation. If you try to add an element that already exists in the set, it will not be added again. This property makes sets ideal for situations where uniqueness is required without additional checks.\n",
        "\n",
        "\n",
        "#Q14.  How does the “in” keyword work differently for lists and dictionaries?\n",
        "\n",
        "  ->  The in keyword checks membership differently:\n",
        "  \n",
        "  a). For lists, it checks if an element exists within the list by iterating through all items until it finds a match.\n",
        "  \n",
        "  b). For dictionaries, it checks if a key exists by directly accessing the hash table.\n",
        "\n",
        "This results in faster membership testing with dictionaries compared to lists\n",
        "\n",
        "\n",
        "#Q15. Can you modify the elements of a tuple? Explain why or why not?\n",
        "\n",
        "  -> No, you cannot modify the elements of a tuple because they are immutable. Once defined, their content remains fixed throughout their lifetime. This immutability helps maintain data integrity but means you must create a new tuple if any changes are needed.\n",
        "\n",
        "\n",
        "#Q16. What is a nested dictionary, and give an example of its use case?\n",
        "\n",
        "  -> A nested dictionary is a dictionary that contains other dictionaries as its values. This structure allows for complex data representations. For example:\n",
        "\n",
        "        students = {\n",
        "           \"Alice\": {\"age\": 20, \"major\": \"Computer Science\"},\n",
        "            \"Bob\": {\"age\": 22, \"major\": \"Mathematics\"}\n",
        "                  }\n",
        "\n",
        "Use cases include representing hierarchical data such as user profiles or configurations where each user has multiple attributes stored as dictionaries within the main dictionary.\n",
        "\n",
        "\n",
        "#Q17. Describe the time complexity of accessing elements in a dictionary.\n",
        "\n",
        "  -> Accessing elements in a dictionary typically has an average time complexity of O(1) due to its underlying hash table implementation. This means that retrieving values based on their keys is generally very fast compared to other data structures like lists where access time can be O(n) in the worst case.\n",
        "\n",
        "\n",
        "\n",
        "#Q18. In what situations are lists preferred over dictionaries\n",
        "\n",
        "  -> Lists are preferred over dictionaries when:\n",
        "    \n",
        "  a). The order of elements matters.\n",
        "  b). You need to store multiple values without key associations.\n",
        "  c). The dataset does not require fast lookups.\n",
        "\n",
        "Examples include maintaining ordered collections like queues or stacks where index-based access is beneficial.\n",
        "\n",
        "\n",
        "#Q19. Why are dictionaries considered unordered, and how does that affect data retrieval?\n",
        "\n",
        "  -> Dictionaries are considered unordered because they do not maintain the order of elements based on insertion; instead, they organize entries based on hash values derived from keys. This affects how data retrieval works since there’s no guarantee about the order of keys when iterating through them.\n",
        "\n",
        "##Effects on Data Retrieval:\n",
        "##Access Method:\n",
        "  Lists: Access elements using an index (e.g., my_list). This requires knowing the element's position and can lead to slower searches with time complexity O(n) for large lists.\n",
        "\n",
        "Dictionaries: Access values using a key (e.g., my_dict['key']), allowing for direct retrieval with average time complexity O(1) due to hash table implementation.\n",
        "\n",
        "##Order of Elements\n",
        "\n",
        "Lists: Maintain the order of elements, making them suitable for scenarios where sequence matters.\n",
        "\n",
        "Dictionaries: Preserve insertion order as of Python 3.7, but focus primarily on efficient key-based access rather than maintaining a sequence.\n",
        "\n",
        "##Use Cases\n",
        "\n",
        "Lists: Ideal for ordered collections where duplicates are allowed and order is significant.\n",
        "\n",
        "Dictionaries: Best for quick lookups based on unique keys, such as mapping configurations or handling metadata.\n",
        "\n",
        "#Q20. Explain the difference between a list and a dictionary in terms of data retrieval.\n",
        "\n",
        "  -> In terms of data retrieval, lists and dictionaries in Python differ significantly:\n",
        "\n",
        "##Access Method:\n",
        "\n",
        "Lists: Elements are accessed using an index (e.g., my_list). This requires knowledge of the position of the element, leading to a time complexity of O(n) for searches in large lists.\n",
        "\n",
        "Dictionaries: Values are accessed using a key (e.g., my_dict['key']), allowing for direct retrieval with an average time complexity of O(1) due to hash table implementation.\n",
        "\n",
        "##Order of Elements:\n",
        "\n",
        "Lists: Maintain the order of elements, making them suitable for scenarios where the sequence is important.\n",
        "\n",
        "Dictionaries: While they preserve insertion order as of Python 3.7, their primary focus is on efficient key-based access rather than maintaining a sequence.\n",
        "\n",
        "##Use Cases\n",
        "\n",
        "Lists: Ideal for ordered collections where duplicates are allowed and order matters.\n",
        "\n",
        "\n",
        "Dictionaries: Best for quick lookups based on unique keys, such as mapping configurations or handling metadata.\n",
        "\n",
        "\n",
        "In summary, lists provide indexed access suitable for ordered data, while dictionaries offer efficient key-based retrieval that enhances performance for tasks requiring fast lookups.\n",
        "\n"
      ],
      "metadata": {
        "id": "3e1UB2gRpD4c"
      }
    },
    {
      "cell_type": "markdown",
      "source": [
        "#Practical Questions"
      ],
      "metadata": {
        "id": "mIJ_oTzvIR2Z"
      }
    },
    {
      "cell_type": "code",
      "source": [
        "# Q1. Write a code to create a string with your name and print it.\n",
        "\n",
        "name = \"Rohit Vashistha\"\n",
        "print(name)"
      ],
      "metadata": {
        "colab": {
          "base_uri": "https://localhost:8080/"
        },
        "id": "6PAn0dd_IKOf",
        "outputId": "1b5af8c5-fae8-46b4-a5e1-b179bd0bcbc6"
      },
      "execution_count": 4,
      "outputs": [
        {
          "output_type": "stream",
          "name": "stdout",
          "text": [
            "Rohit Vashistha\n"
          ]
        }
      ]
    },
    {
      "cell_type": "markdown",
      "source": [],
      "metadata": {
        "id": "Syyy_jaTpCb6"
      }
    },
    {
      "cell_type": "code",
      "source": [
        "# Q2. Write a code to find the length of the string \"Hello World\"E\n",
        "\n",
        "length = len(\"Hello World\")\n",
        "print(length)"
      ],
      "metadata": {
        "colab": {
          "base_uri": "https://localhost:8080/"
        },
        "id": "zZmwozUSIlt4",
        "outputId": "3fb316a3-1397-4cb3-eb40-08e05cd706aa"
      },
      "execution_count": 5,
      "outputs": [
        {
          "output_type": "stream",
          "name": "stdout",
          "text": [
            "11\n"
          ]
        }
      ]
    },
    {
      "cell_type": "code",
      "source": [
        "# Q3. Write a code to slice the first 3 characters from the string \"Python Programming\"\n",
        "sliced_string = \"Python Programming\"[:3]\n",
        "print(sliced_string)"
      ],
      "metadata": {
        "colab": {
          "base_uri": "https://localhost:8080/"
        },
        "id": "CccoUTZcItNI",
        "outputId": "175a9735-d2bd-4cc2-9898-58432a23989b"
      },
      "execution_count": 6,
      "outputs": [
        {
          "output_type": "stream",
          "name": "stdout",
          "text": [
            "Pyt\n"
          ]
        }
      ]
    },
    {
      "cell_type": "code",
      "source": [
        "# Q4. Write a code to convert the string \"hello\" to uppercase.\n",
        "\n",
        "uppercase_string = \"hello\".upper()\n",
        "print(uppercase_string)\n"
      ],
      "metadata": {
        "colab": {
          "base_uri": "https://localhost:8080/"
        },
        "id": "_6hKSrqWOSd4",
        "outputId": "d8a1ed85-47aa-40b3-decd-04ab2450cacc"
      },
      "execution_count": 7,
      "outputs": [
        {
          "output_type": "stream",
          "name": "stdout",
          "text": [
            "HELLO\n"
          ]
        }
      ]
    },
    {
      "cell_type": "code",
      "source": [
        "# Q5. Write a code to replace the word \"apple\" with \"orange\" in the string \"I like apple\".\n",
        "\n",
        "original_string = \"I like apple\"\n",
        "modified_string = original_string.replace(\"apple\", \"orange\")\n",
        "print(modified_string)\n"
      ],
      "metadata": {
        "colab": {
          "base_uri": "https://localhost:8080/"
        },
        "id": "UED8WZ9dOaaE",
        "outputId": "bdc1cc64-27d2-4fc4-8317-57159268e3ec"
      },
      "execution_count": 8,
      "outputs": [
        {
          "output_type": "stream",
          "name": "stdout",
          "text": [
            "I like orange\n"
          ]
        }
      ]
    },
    {
      "cell_type": "code",
      "source": [
        "# Q6. Write a code to create a list with numbers 1 to 5 and print it\n",
        "\n",
        "number_list = [1, 2, 3, 4, 5]\n",
        "print(number_list)"
      ],
      "metadata": {
        "colab": {
          "base_uri": "https://localhost:8080/"
        },
        "id": "2DfM-OlCOjNW",
        "outputId": "1135f307-beac-4b04-9dd8-25eb9b2dab56"
      },
      "execution_count": 9,
      "outputs": [
        {
          "output_type": "stream",
          "name": "stdout",
          "text": [
            "[1, 2, 3, 4, 5]\n"
          ]
        }
      ]
    },
    {
      "cell_type": "code",
      "source": [
        "# Q7.  Write a code to append the number 10 to the list [1, 2, 3, 4].\n",
        "\n",
        "my_list = [1, 2, 3, 4]\n",
        "my_list.append(10)\n",
        "print(my_list)"
      ],
      "metadata": {
        "colab": {
          "base_uri": "https://localhost:8080/"
        },
        "id": "ukWWIfL4OrE6",
        "outputId": "0e652ec9-20bf-4d95-968d-bbb8c7d9cc9b"
      },
      "execution_count": 10,
      "outputs": [
        {
          "output_type": "stream",
          "name": "stdout",
          "text": [
            "[1, 2, 3, 4, 10]\n"
          ]
        }
      ]
    },
    {
      "cell_type": "code",
      "source": [
        "# Q8. Write a code to remove the number 3 from the list [1, 2, 3, 4, 5].\n",
        "my_list = [1, 2, 3, 4, 5]\n",
        "my_list.remove(3)\n",
        "print(my_list)"
      ],
      "metadata": {
        "colab": {
          "base_uri": "https://localhost:8080/"
        },
        "id": "ACf8Tli1OyTi",
        "outputId": "33215113-4454-4b7b-c35a-bb2d3292dffb"
      },
      "execution_count": 11,
      "outputs": [
        {
          "output_type": "stream",
          "name": "stdout",
          "text": [
            "[1, 2, 4, 5]\n"
          ]
        }
      ]
    },
    {
      "cell_type": "code",
      "source": [
        "# Q9. Write a code to access the second element in the list ['a', 'b', 'c', 'd']\n",
        "\n",
        "my_list = ['a', 'b', 'c', 'd']\n",
        "second_element = my_list[1]  # Indexing starts at 0\n",
        "print(second_element)"
      ],
      "metadata": {
        "colab": {
          "base_uri": "https://localhost:8080/"
        },
        "id": "WV2rGMkJO59E",
        "outputId": "a02b58f0-91b9-4db9-b252-4ba9e7db717f"
      },
      "execution_count": 12,
      "outputs": [
        {
          "output_type": "stream",
          "name": "stdout",
          "text": [
            "b\n"
          ]
        }
      ]
    },
    {
      "cell_type": "code",
      "source": [
        "# Q10. Write a code to reverse the list [10, 20, 30, 40, 50].\n",
        "\n",
        "my_list = [10, 20, 30, 40, 50]\n",
        "my_list.reverse()\n",
        "print(my_list)"
      ],
      "metadata": {
        "colab": {
          "base_uri": "https://localhost:8080/"
        },
        "id": "qG1GdemwPA9b",
        "outputId": "e1517761-f9dd-4e6f-d8d7-836ab5afd7ef"
      },
      "execution_count": 13,
      "outputs": [
        {
          "output_type": "stream",
          "name": "stdout",
          "text": [
            "[50, 40, 30, 20, 10]\n"
          ]
        }
      ]
    },
    {
      "cell_type": "code",
      "source": [
        "# Q11. Write a code to create a tuple with the elements 10, 20, 30 and print it.\n",
        "\n",
        "my_tuple = (10, 20, 30)\n",
        "print(my_tuple)"
      ],
      "metadata": {
        "colab": {
          "base_uri": "https://localhost:8080/"
        },
        "id": "KDyO6YocPNSK",
        "outputId": "45773c34-59d7-47f7-aa17-be1ee77ce5b5"
      },
      "execution_count": 14,
      "outputs": [
        {
          "output_type": "stream",
          "name": "stdout",
          "text": [
            "(10, 20, 30)\n"
          ]
        }
      ]
    },
    {
      "cell_type": "code",
      "source": [
        "# Q12. Write a code to access the first element of the tuple ('apple', 'banana', 'cherry').\n",
        "fruits = ('apple', 'banana', 'cherry')\n",
        "first_element = fruits[0]\n",
        "print(first_element)"
      ],
      "metadata": {
        "colab": {
          "base_uri": "https://localhost:8080/"
        },
        "id": "rG36y4q9PTHC",
        "outputId": "44bd7d03-de29-4421-c038-c7eb19eae56b"
      },
      "execution_count": 15,
      "outputs": [
        {
          "output_type": "stream",
          "name": "stdout",
          "text": [
            "apple\n"
          ]
        }
      ]
    },
    {
      "cell_type": "code",
      "source": [
        "# Q13. Write a code to count how many times the number 2 appears in the tuple (1, 2, 3, 2, 4, 2).\n",
        "\n",
        "count_of_twos = (1, 2, 3, 2, 4, 2).count(2)\n",
        "print(count_of_twos)\n"
      ],
      "metadata": {
        "colab": {
          "base_uri": "https://localhost:8080/"
        },
        "id": "Z-CDbGZtPamG",
        "outputId": "a0416ce9-4cca-441f-a777-47cce6dd41a8"
      },
      "execution_count": 16,
      "outputs": [
        {
          "output_type": "stream",
          "name": "stdout",
          "text": [
            "3\n"
          ]
        }
      ]
    },
    {
      "cell_type": "code",
      "source": [
        "# Q 14.  Write a code to find the index of the element \"cat\" in the tuple ('dog', 'cat', 'rabbit').\n",
        "\n",
        "animals = ('dog', 'cat', 'rabbit')\n",
        "index_of_cat = animals.index('cat')\n",
        "print(index_of_cat)"
      ],
      "metadata": {
        "colab": {
          "base_uri": "https://localhost:8080/"
        },
        "id": "7IDfVsa-PhJi",
        "outputId": "6ed9b403-1962-4128-bf9b-61c8704cf8ad"
      },
      "execution_count": 17,
      "outputs": [
        {
          "output_type": "stream",
          "name": "stdout",
          "text": [
            "1\n"
          ]
        }
      ]
    },
    {
      "cell_type": "code",
      "source": [
        "# Q 15.  Write a code to check if the element \"banana\" is in the tuple ('apple', 'orange', 'banana').\n",
        "\n",
        "fruits = ('apple', 'orange', 'banana')\n",
        "is_banana_present = 'banana' in fruits\n",
        "print(is_banana_present)"
      ],
      "metadata": {
        "colab": {
          "base_uri": "https://localhost:8080/"
        },
        "id": "8APpLE5cPnha",
        "outputId": "370d8da7-b499-4287-da96-79a22b10b042"
      },
      "execution_count": 18,
      "outputs": [
        {
          "output_type": "stream",
          "name": "stdout",
          "text": [
            "True\n"
          ]
        }
      ]
    },
    {
      "cell_type": "code",
      "source": [
        "# Q 16. Write a code to create a set with the elements 1, 2, 3, 4, 5 and print it.\n",
        "\n",
        "my_set = {1, 2, 3, 4, 5}\n",
        "print(my_set)"
      ],
      "metadata": {
        "colab": {
          "base_uri": "https://localhost:8080/"
        },
        "id": "izkAQbToPv8p",
        "outputId": "b16047d5-60ae-48db-b7b9-2fd202bedc86"
      },
      "execution_count": 19,
      "outputs": [
        {
          "output_type": "stream",
          "name": "stdout",
          "text": [
            "{1, 2, 3, 4, 5}\n"
          ]
        }
      ]
    },
    {
      "cell_type": "code",
      "source": [
        "# Q 17. Write a code to add the element 6 to the set {1, 2, 3, 4}.\n",
        "\n",
        "my_set = {1, 2, 3, 4}\n",
        "my_set.add(6)\n",
        "print(my_set)"
      ],
      "metadata": {
        "colab": {
          "base_uri": "https://localhost:8080/"
        },
        "id": "4UX1cSGwP1s-",
        "outputId": "ad625c4d-a231-4739-a892-cdfa23ba9357"
      },
      "execution_count": 20,
      "outputs": [
        {
          "output_type": "stream",
          "name": "stdout",
          "text": [
            "{1, 2, 3, 4, 6}\n"
          ]
        }
      ]
    },
    {
      "cell_type": "markdown",
      "source": [
        "# ** QUESTION 18 TO 24 ARE REPEATED QUESTIONS**"
      ],
      "metadata": {
        "id": "hhmp6O8JQAWY"
      }
    }
  ]
}